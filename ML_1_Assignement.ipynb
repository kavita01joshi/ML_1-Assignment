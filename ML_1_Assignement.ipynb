{
  "nbformat": 4,
  "nbformat_minor": 0,
  "metadata": {
    "colab": {
      "provenance": []
    },
    "kernelspec": {
      "name": "python3",
      "display_name": "Python 3"
    },
    "language_info": {
      "name": "python"
    }
  },
  "cells": [
    {
      "cell_type": "code",
      "execution_count": null,
      "metadata": {
        "id": "wUG1V-pis72_"
      },
      "outputs": [],
      "source": []
    },
    {
      "cell_type": "markdown",
      "source": [
        "1. What is a parameter?\n",
        "* A parameter is a variable in a model that the algorithm learns from the data. Examples include weights in neural networks or coefficients in linear regression.\n",
        "\n",
        "2. What is correlation?\n",
        "* Correlation measures the strength and direction of a linear relationship between two variables.\n",
        "\n",
        "**What does negative correlation mean?**\n",
        "* Negative correlation means that as one variable increases, the other decreases. For example, hours spent watching TV and exam scores may be negatively correlated.\n",
        "\n",
        "3. Define Machine Learning. What are the main components in Machine Learning?\n",
        "* Machine Learning is a field of AI that enables systems to learn patterns from data and make predictions or decisions without being explicitly programmed.\n",
        "\n",
        "**Main components:**\n",
        "\n",
        "      * Data\n",
        "      * Features\n",
        "      * Model\n",
        "      * Algorithm\n",
        "      * Evaluation metrics\n",
        "\n",
        "4. How does loss value help in determining whether the model is good or not?\n",
        "* Loss value quantifies how far off the model's predictions are from the actual outcomes. A lower loss indicates better performance.\n",
        "\n",
        "\n",
        "5. What are continuous and categorical variables?\n",
        "\n",
        " * Continuous variables: Numeric values that can take any value within a range (e.g., height, temperature).\n",
        "\n",
        " * Categorical variables: Represent discrete categories (e.g., gender, color).\n",
        "\n",
        "6. How do we handle categorical variables in Machine Learning? What are the common techniques? Common techniques:\n",
        "\n",
        "One-Hot Encoding\n",
        "\n",
        "Label Encoding\n",
        "\n",
        "Ordinal Encoding\n",
        "\n",
        "7. What do you mean by training and testing a dataset?\n",
        "\n",
        "* Training dataset: Used to train the model.\n",
        "\n",
        "* Testing dataset: Used to evaluate the model’s performance on unseen data.\n",
        "\n",
        "8. What is sklearn.preprocessing??\n",
        "* It’s a module in scikit-learn that provides functions for scaling, encoding, and transforming features before model training.\n",
        "\n",
        "9. What is a Test set?\n",
        "* A test set is a portion of the dataset reserved for evaluating the performance of a trained model.\n",
        "\n",
        "10. How do we split data for model fitting (training and testing) in Python? How do you approach a Machine Learning problem?\n",
        "* Using train_test_split from sklearn.model_selection:\n",
        "\n",
        "\n"
      ],
      "metadata": {
        "id": "skvVyaDgs8Wm"
      }
    },
    {
      "cell_type": "code",
      "source": [
        "from sklearn.model_selection import train_test_split\n",
        "X_train, X_test, y_train, y_test = train_test_split(X, y, test_size=0.2, random_state=42)\n"
      ],
      "metadata": {
        "colab": {
          "base_uri": "https://localhost:8080/",
          "height": 162
        },
        "id": "2bjqRR1Vu52Y",
        "outputId": "aebfa404-c1ff-49da-fb09-9d4903ac8b39"
      },
      "execution_count": 1,
      "outputs": [
        {
          "output_type": "error",
          "ename": "NameError",
          "evalue": "name 'X' is not defined",
          "traceback": [
            "\u001b[0;31m---------------------------------------------------------------------------\u001b[0m",
            "\u001b[0;31mNameError\u001b[0m                                 Traceback (most recent call last)",
            "\u001b[0;32m/tmp/ipython-input-3645625029.py\u001b[0m in \u001b[0;36m<cell line: 0>\u001b[0;34m()\u001b[0m\n\u001b[1;32m      1\u001b[0m \u001b[0;32mfrom\u001b[0m \u001b[0msklearn\u001b[0m\u001b[0;34m.\u001b[0m\u001b[0mmodel_selection\u001b[0m \u001b[0;32mimport\u001b[0m \u001b[0mtrain_test_split\u001b[0m\u001b[0;34m\u001b[0m\u001b[0;34m\u001b[0m\u001b[0m\n\u001b[0;32m----> 2\u001b[0;31m \u001b[0mX_train\u001b[0m\u001b[0;34m,\u001b[0m \u001b[0mX_test\u001b[0m\u001b[0;34m,\u001b[0m \u001b[0my_train\u001b[0m\u001b[0;34m,\u001b[0m \u001b[0my_test\u001b[0m \u001b[0;34m=\u001b[0m \u001b[0mtrain_test_split\u001b[0m\u001b[0;34m(\u001b[0m\u001b[0mX\u001b[0m\u001b[0;34m,\u001b[0m \u001b[0my\u001b[0m\u001b[0;34m,\u001b[0m \u001b[0mtest_size\u001b[0m\u001b[0;34m=\u001b[0m\u001b[0;36m0.2\u001b[0m\u001b[0;34m,\u001b[0m \u001b[0mrandom_state\u001b[0m\u001b[0;34m=\u001b[0m\u001b[0;36m42\u001b[0m\u001b[0;34m)\u001b[0m\u001b[0;34m\u001b[0m\u001b[0;34m\u001b[0m\u001b[0m\n\u001b[0m",
            "\u001b[0;31mNameError\u001b[0m: name 'X' is not defined"
          ]
        }
      ]
    },
    {
      "cell_type": "markdown",
      "source": [
        "11. Why do we have to perform EDA before fitting a model to the data?\n",
        "\n",
        "* **Understand the Data Structure-** EDA helps you grasp the shape, size, and types of variables in your dataset—whether they're numerical, categorical, or missing.\n",
        "\n",
        "* **Detect Missing or Corrupted Data-** It reveals gaps, null values, or anomalies that could mislead the model if left untreated.\n",
        "\n",
        "* **Identify Outliers-** Outliers can skew model performance. EDA helps you spot and decide whether to remove or transform them.\n",
        "\n",
        "* **Reveal Relationships Between Variables-** You can uncover correlations, trends, and patterns that inform feature selection and engineering.\n",
        "\n",
        "* **Choose the Right Model and Preprocessing Steps-** Understanding distributions and relationships helps you decide whether to scale features, encode categories, or transform variables.\n",
        "\n",
        "* **Prevent Data Leakage-** EDA ensures that no information from the target variable unintentionally influences the features during preprocessing.\n",
        "\n",
        "* **Improve Model Accuracy and Interpretability-** By cleaning and understanding the data, you build models that are not only more accurate but also easier to explain.\n",
        "\n",
        "\n",
        "12. What is correlation? -- quest 2 repeated\n",
        "13. What does negative correlation mean?  -- quest 2 repeated\n",
        "\n",
        "14. How can you find correlation between variables in Python?\n",
        "* df.corr() calculates Pearson correlation by default.\n",
        "\n",
        "Values range from -1 to 1:\n",
        "\n",
        "1 → perfect positive correlation\n",
        "\n",
        "-1 → perfect negative correlation\n",
        "\n",
        "0 → no correlation"
      ],
      "metadata": {
        "id": "6g3nS-G8vXa3"
      }
    },
    {
      "cell_type": "code",
      "source": [
        "import pandas as pd\n",
        "\n",
        "# Load your dataset\n",
        "df = pd.read_csv('your_data.csv')\n",
        "\n",
        "# Compute correlation matrix\n",
        "correlation_matrix = df.corr()\n",
        "\n",
        "# Display the result\n",
        "print(correlation_matrix)"
      ],
      "metadata": {
        "id": "f8OnE7UZxbUU"
      },
      "execution_count": null,
      "outputs": []
    },
    {
      "cell_type": "code",
      "source": [
        "## Visualize with a heatmap\n",
        "import seaborn as sns\n",
        "import matplotlib.pyplot as plt\n",
        "\n",
        "sns.heatmap(df.corr(), annot=True, cmap='coolwarm')\n",
        "plt.show()\n"
      ],
      "metadata": {
        "id": "sd3Zt8Z4xzG8"
      },
      "execution_count": null,
      "outputs": []
    },
    {
      "cell_type": "markdown",
      "source": [
        "15. What is causation? Explain difference between correlation and causation with an example?\n",
        "\n",
        "Causation: One variable directly affects another.\n",
        "\n",
        "Correlation: Variables move together but may not influence each other. Example: Ice cream sales and drowning incidents may be correlated (both rise in summer), but ice cream doesn’t cause drowning.\n",
        "\n",
        "\n",
        "16. What is an Optimizer? What are different types of optimizers? Explain each with an example.\n",
        "\n",
        "An optimizer adjusts model parameters to minimize loss. Types:\n",
        "\n",
        "SGD (Stochastic Gradient Descent): Updates weights using one sample at a time.\n",
        "\n",
        "Adam: Combines momentum and adaptive learning rates.\n",
        "\n",
        "RMSprop: Adapts learning rate based on recent gradients. Example:"
      ],
      "metadata": {
        "id": "KFGF809jx19k"
      }
    },
    {
      "cell_type": "code",
      "source": [
        "from tensorflow.keras.optimizers import Adam\n",
        "optimizer = Adam(learning_rate=0.001)\n"
      ],
      "metadata": {
        "id": "5-1szSTb0786"
      },
      "execution_count": null,
      "outputs": []
    },
    {
      "cell_type": "markdown",
      "source": [
        "17. What is sklearn.linear_model?\n",
        "* A module in scikit-learn for linear models like Linear Regression, Logistic Regression, Ridge, and Lasso.\n",
        "\n",
        "18. What does model.fit() do? What arguments must be given?\n",
        "* Trains the model using training data. Arguments:\n",
        "\n",
        "X_train: Features\n",
        "\n",
        "y_train: Labels\n",
        "\n",
        "Example:\n",
        "model.fit(X_train, y_train)\n",
        "\n",
        "\n",
        "19. What does model.predict() do? What arguments must be given?\n",
        "* Generates predictions from the trained model. Argument:\n",
        "\n",
        "X_test: Features to predict\n",
        "Example: model.predict(X_test)\n"
      ],
      "metadata": {
        "id": "HU_JZoLjyGEH"
      }
    },
    {
      "cell_type": "markdown",
      "source": [
        "20. What are continuous and categorical variables? -- repeated quest5\n",
        "\n",
        "21. What is feature scaling? How does it help in Machine Learning?\n",
        "\n",
        "Feature scaling standardizes the range of features. It helps algorithms like KNN, SVM, and Gradient Descent converge faster and perform better\n",
        "\n",
        " **Feature Scaling**\n",
        "\n",
        "    * It transforms features so they have:\n",
        "        * A common scale (e.g., 0 to 1 or mean = 0, std = 1)\n",
        "        * No dominance by features with larger numeric ranges\n",
        "\n",
        "**Why Is It Important in Machine Learning?**\n",
        "\n",
        "* Improves model performance: Algorithms like KNN, SVM, and gradient descent-based models are sensitive to feature magnitudes.\n",
        "\n",
        "* Speeds up convergence: Especially in neural networks and optimization algorithms.\n",
        "\n",
        "* Ensures fairness: Prevents features with larger scales from overpowering others.\n",
        "\n",
        "* Enhances accuracy: Helps models learn patterns more effectively.\n",
        "\n",
        "**Example**\n",
        "Without scaling:\n",
        "\n",
        "Age: 25–60\n",
        "\n",
        "Income: ₹20,000–₹2,00,000\n",
        "\n",
        "Income might dominate the model just because of its larger range.\n",
        "\n",
        "With scaling:\n",
        "\n",
        "Both features are normalized, allowing the model to treat them equally.\n",
        "\n",
        "\n",
        "22. How do we perform scaling in Python?\n",
        "   * Using StandardScaler from sklearn.preprocessing:\n",
        "**When to Scale**\n",
        "* Before using algorithms like KNN, SVM, Logistic Regression, or Neural Networks\n",
        "\n",
        "* When features have different units or ranges\n",
        "\n",
        "* StandardScaler standardizes features by removing the mean and scaling to unit variance.\n"
      ],
      "metadata": {
        "id": "fZumMtrIzUh2"
      }
    },
    {
      "cell_type": "code",
      "source": [
        "from sklearn.preprocessing import StandardScaler\n",
        "\n",
        "# Create the scaler\n",
        "scaler = StandardScaler()\n",
        "\n",
        "# Fit and transform your data\n",
        "X_scaled = scaler.fit_transform(X)\n"
      ],
      "metadata": {
        "id": "jZ1AyB5yzV1a"
      },
      "execution_count": null,
      "outputs": []
    },
    {
      "cell_type": "markdown",
      "source": [
        "\n",
        "\n",
        "\n",
        "23. What is sklearn.preprocessing? -- repeated quest8\n",
        "24. How do we split data for model fitting (training and testing) in Python?-- repeated quest10.\n",
        "\n",
        "25. Explain data encoding?\n",
        "* Data encoding transforms categorical variables into numerical formats so that machine learning models can process them. Techniques include One-Hot Encoding and Label Encoding."
      ],
      "metadata": {
        "id": "XE6oAbblyGWK"
      }
    }
  ]
}